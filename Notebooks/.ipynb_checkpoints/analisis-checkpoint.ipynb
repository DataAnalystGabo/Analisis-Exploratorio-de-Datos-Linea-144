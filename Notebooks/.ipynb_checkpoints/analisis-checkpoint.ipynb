{
 "cells": [
  {
   "attachments": {},
   "cell_type": "markdown",
   "metadata": {},
   "source": [
    "# **Análisis exploratorio de la base de datos de la línea 144** \n",
    "-----------------------------\n",
    "\n",
    "Autor: Gonzalo Gabriel Ramirez  \n",
    "Fecha: 24/6/2023  \n",
    "Fuente: [Ministerio de las Mujeres, Géneros y Diversidad de la Nación - Dirección Técnica de Registros y Bases de Datos.](https://www.datos.gob.ar/dataset/generos-base-datos-linea-144)  \n"
   ]
  },
  {
   "cell_type": "markdown",
   "metadata": {},
   "source": [
    "### 1. **Introducción**\n",
    "----------------\n",
    "En el año 2013 se creó en la República Argentina la línea 144. Dicha línea de comunicación telefónica nace con la intención de cumplir los objetivos establecidos por la Ley 26.845, artículo 9. \n",
    "Su tarea es la de brindar atención, contención y asesoramiento a mujeres y LGTBI+ en situación de violencia de género.\n",
    "Su equipo interdisciplinario está compuesto por profesionales de las áreas del derecho, la psicología, el trabajo social y otras áreas afines con capacitación en perspectiva de género,según informa [el sitio web oficial del Gobierno de la República Argentina](https://www.argentina.gob.ar/generos/linea-144).\n",
    "\n",
    "Nuestra tarea en este análisis será manipular y presentar en gráficos estos datos para responder a distintas cuestiones acerca de la línea 144. Como por ejemplo *¿cúal es la distribución de las provincias de residencia de las personas que denuncian algún tipo de violencia?* o *¿cuál es la edad media de las personas que denuncian sufrir violencia de género en cualquiera de sus tipos?*. Éstas y otras cuestiones serán presentadas, analizadas y respondidas en base a la información que nuestro dataframe nos ofrece. "
   ]
  },
  {
   "attachments": {},
   "cell_type": "markdown",
   "metadata": {},
   "source": [
    "### 2. **El dataframe**\n",
    "----------------\n",
    "Nuestro dataframe es el resultado de la concatenación de 4 archivos de tipo '.csv' provisto por el sitio web [Datos.gob.ar](https://www.datos.gob.ar/dataset/generos-base-datos-linea-144). Cada archivo '.csv' responde al período 2020, 2021, 2022 y al primer trimestre del 2023 respectivamente. La sumatoria de estos 4 periodos nos dá como resultado **84.861 observaciones** y 18 variables: \n",
    "- **fecha:** - ISO-8601 (date) - Fecha del ingreso de la consulta.\n",
    "- **prov_residencia_persona_en_situacion_violencia:** - Texto (string) - Provincia en donde la persona en situación de violencia declara estar residiendo al momento de la consulta.\n",
    "- **genero_persona_en_situacion_de_violencia:** - Texto (string) - Identidad de género autopercibida de la persona en situación de violencia.\n",
    "- **edad_persona_en_situacion_de_violencia Texto** - Texto (string) - Edad declarada de la persona en situación de violencia al momento en que se ingresó la consulta.\n",
    "- **pais_nacimiento_persona_en_situacion_de_violencia** - Texto (string) - País de nacimiento de la persona en situación de violencia.\n",
    "- **tipo_de_violencia_fisica** - Texto (string) - Tipo de violencia, contemplado por la ley 26.485, que motiva la consulta.\n",
    "- **tipo_de_violencia_psicologica** - Texto (string) - Tipo de violencia, contemplado por la ley 26.485, que motiva la consulta.\n",
    "- **tipo_de_violencia_sexual** - Texto (string) - Tipo de violencia, contemplado por la ley 26.485, que motiva la consulta.\n",
    "- **tipo_de_violencia_economica_y_patrimonial** - Texto (string) - Tipo de violencia, contemplado por la ley 26.485, que motiva la consulta.\n",
    "- **tipo_de_violencia_simbolica Texto** - Texto (string) - Tipo de violencia, contemplado por la ley 26.485, que motiva la consulta.\n",
    "- **tipo_de_violencia_domestica** - Texto (string) - Modalidad de violencia, contempladas por la ley 26.485, que motivan la consulta bajo la cual se desarrollaron.\n",
    "- **modalidad_de_violencia_institucional** - Texto (string) - Modalidad de violencia, contempladas por la ley 26.485, que motivan la consulta bajo la cual se desarrollaron.\n",
    "- **modalidad_de_violencia_laboral** - Texto (string) - Modalidad de violencia, contempladas por la ley 26.485, que motivan la consulta bajo la cual se desarrollaron.\n",
    "- **modalidad_violencia_contra_libertad_reproductiva** Texto (string) - Modalidad de violencia, contempladas por la ley 26.485, que motivan la consulta bajo la cual se desarrollaron.\n",
    "- **modalidad_de_violencia_obstetrica** - Texto (string) - Modalidad de violencia, contempladas por la ley 26.485, que motivan la consulta bajo la cual se desarrollaron.\n",
    "- **modalidad_de_violencia_mediatica** - Texto (string) - Modalidad de violencia, contempladas por la ley 26.485, que motivan la consulta bajo la cual se desarrollaron.\n",
    "- **modalidad_de_violencia_otras** - Texto (string) - Categoría “Otras modalidades” para dejar registro de la presencia de otras modalidades distintas a las mencionadas (por ejemplo, violencia política, acoso callejero).\n",
    "- **vinculo_con_la_persona_agresora** - Texto (string) - Vínculo que tiene o tenía la persona en situación de violencia con quien ejerce la agresión en el momento en que sucedieron las situaciones de violencia declaradas.\n",
    "- **genero_de_la_persona_agresora** - Texto (string) - Identidad de género de la persona agresora.\n",
    "\n",
    "Mediante la manipulación de los datos con la librería *pandas* se logró reunir y almacenar en una sola variable llamada *df* la totalidad de los registros de los cuatros periodos en cuestión, de la cual se desprenderá las distintas operaciones necesarias para responder cada una de las preguntas que abordaremos en este análisis.\n",
    "\n",
    "Cabe destacar que nuestro dataframe presenta valores nulos en más de una variable. Todos los valores nulos fueron oportunamente sustituidos por la leyenda \"Missing\" que nos indica que ese valor no fue cargado desde su origen y se tendrá en cuenta para su descarte de acuerdo a la necesidad del momento o de la pregunta a responder.\n"
   ]
  },
  {
   "cell_type": "code",
   "execution_count": 1,
   "metadata": {},
   "outputs": [],
   "source": [
    "import pandas as pd\n",
    "import numpy as np\n",
    "import matplotlib.pyplot as plt\n",
    "import seaborn as sns\n",
    "import plotly.express as px"
   ]
  },
  {
   "attachments": {},
   "cell_type": "markdown",
   "metadata": {},
   "source": [
    "**Cargamos CSV**"
   ]
  },
  {
   "cell_type": "code",
   "execution_count": 2,
   "metadata": {},
   "outputs": [],
   "source": [
    "df_2020 = pd.read_csv(\"../Dataframes/linea144-2020.csv\")\n",
    "df_2021 = pd.read_csv(\"../Dataframes/linea144-2021.csv\")\n",
    "df_2022 = pd.read_csv(\"../Dataframes/linea144-2022.csv\")\n",
    "df_2023 = pd.read_csv(\"../Dataframes/linea144-2023.csv\")"
   ]
  },
  {
   "cell_type": "code",
   "execution_count": 3,
   "metadata": {},
   "outputs": [],
   "source": [
    "df_2022.pop(df_2022.columns[-1])\n",
    "df_2022 = df_2022.rename(columns={\n",
    "    'Fecha': 'fecha'\n",
    "})\n",
    "\n",
    "df_2023 = df_2023.rename(columns={\n",
    "    'Fecha': 'fecha'\n",
    "})\n",
    "\n",
    "dataframes = [df_2020, df_2021, df_2022, df_2023]\n",
    "df         = pd.concat(dataframes, ignore_index=True)\n",
    "df         = df.drop_duplicates()"
   ]
  },
  {
   "cell_type": "code",
   "execution_count": 4,
   "metadata": {},
   "outputs": [
    {
     "name": "stdout",
     "output_type": "stream",
     "text": [
      "<class 'pandas.core.frame.DataFrame'>\n",
      "Index: 83660 entries, 0 to 84860\n",
      "Data columns (total 19 columns):\n",
      " #   Column                                             Non-Null Count  Dtype  \n",
      "---  ------                                             --------------  -----  \n",
      " 0   fecha                                              83660 non-null  object \n",
      " 1   prov_residencia_persona_en_situacion_violencia     82441 non-null  object \n",
      " 2   genero_persona_en_situacion_de_violencia           81901 non-null  object \n",
      " 3   edad_persona_en_situacion_de_violencia             68028 non-null  float64\n",
      " 4   pais_nacimiento_persona_en_situacion_de_violencia  55586 non-null  object \n",
      " 5   tipo_de_violencia_fisica                           83660 non-null  object \n",
      " 6   tipo_de_violencia_psicologica                      83660 non-null  object \n",
      " 7   tipo_de_violencia_sexual                           83660 non-null  object \n",
      " 8   tipo_de_violencia_economica_y_patrimonial          83660 non-null  object \n",
      " 9   tipo_de_violencia_simbolica                        83660 non-null  object \n",
      " 10  tipo_de_violencia_domestica                        83660 non-null  object \n",
      " 11  modalidad_de_violencia_institucional               83660 non-null  object \n",
      " 12  modalidad_de_violencia_laboral                     83660 non-null  object \n",
      " 13  modalidad_violencia_contra_libertad_reproductiva   83660 non-null  object \n",
      " 14  modalidad_de_violencia_obstetrica                  83660 non-null  object \n",
      " 15  modalidad_de_violencia_mediatica                   83660 non-null  object \n",
      " 16  modalidad_de_violencia_otras                       83660 non-null  object \n",
      " 17  vinculo_con_la_persona_agresora                    80548 non-null  object \n",
      " 18  genero_de_la_persona_agresora                      75056 non-null  object \n",
      "dtypes: float64(1), object(18)\n",
      "memory usage: 12.8+ MB\n"
     ]
    }
   ],
   "source": [
    "df.info()"
   ]
  },
  {
   "cell_type": "code",
   "execution_count": 5,
   "metadata": {},
   "outputs": [],
   "source": [
    "df_edades = df['edad_persona_en_situacion_de_violencia'].value_counts()"
   ]
  },
  {
   "cell_type": "code",
   "execution_count": 6,
   "metadata": {},
   "outputs": [],
   "source": [
    "df_edades = pd.DataFrame({'Edad': df_edades.index, 'Conteo': df_edades.values})\n",
    "df_edades = df_edades.sort_values(by='Edad', ascending=True)"
   ]
  },
  {
   "cell_type": "code",
   "execution_count": 7,
   "metadata": {},
   "outputs": [
    {
     "data": {
      "text/html": [
       "<div>\n",
       "<style scoped>\n",
       "    .dataframe tbody tr th:only-of-type {\n",
       "        vertical-align: middle;\n",
       "    }\n",
       "\n",
       "    .dataframe tbody tr th {\n",
       "        vertical-align: top;\n",
       "    }\n",
       "\n",
       "    .dataframe thead th {\n",
       "        text-align: right;\n",
       "    }\n",
       "</style>\n",
       "<table border=\"1\" class=\"dataframe\">\n",
       "  <thead>\n",
       "    <tr style=\"text-align: right;\">\n",
       "      <th></th>\n",
       "      <th>Edad</th>\n",
       "      <th>Conteo</th>\n",
       "    </tr>\n",
       "  </thead>\n",
       "  <tbody>\n",
       "    <tr>\n",
       "      <th>92</th>\n",
       "      <td>1.0</td>\n",
       "      <td>4</td>\n",
       "    </tr>\n",
       "    <tr>\n",
       "      <th>88</th>\n",
       "      <td>2.0</td>\n",
       "      <td>7</td>\n",
       "    </tr>\n",
       "    <tr>\n",
       "      <th>84</th>\n",
       "      <td>3.0</td>\n",
       "      <td>14</td>\n",
       "    </tr>\n",
       "    <tr>\n",
       "      <th>78</th>\n",
       "      <td>4.0</td>\n",
       "      <td>19</td>\n",
       "    </tr>\n",
       "    <tr>\n",
       "      <th>79</th>\n",
       "      <td>5.0</td>\n",
       "      <td>19</td>\n",
       "    </tr>\n",
       "  </tbody>\n",
       "</table>\n",
       "</div>"
      ],
      "text/plain": [
       "    Edad  Conteo\n",
       "92   1.0       4\n",
       "88   2.0       7\n",
       "84   3.0      14\n",
       "78   4.0      19\n",
       "79   5.0      19"
      ]
     },
     "execution_count": 7,
     "metadata": {},
     "output_type": "execute_result"
    }
   ],
   "source": [
    "df_edades.head()"
   ]
  },
  {
   "cell_type": "code",
   "execution_count": 75,
   "metadata": {},
   "outputs": [
    {
     "ename": "TypeError",
     "evalue": "_AxesBase.set_xlabel() missing 1 required positional argument: 'xlabel'",
     "output_type": "error",
     "traceback": [
      "\u001b[1;31m---------------------------------------------------------------------------\u001b[0m",
      "\u001b[1;31mTypeError\u001b[0m                                 Traceback (most recent call last)",
      "Cell \u001b[1;32mIn[75], line 15\u001b[0m\n\u001b[0;32m     13\u001b[0m ax\u001b[38;5;241m.\u001b[39mset_ylabel(\u001b[38;5;124m'\u001b[39m\u001b[38;5;124mCantidad de llamados\u001b[39m\u001b[38;5;124m'\u001b[39m, color\u001b[38;5;241m=\u001b[39m\u001b[38;5;124m'\u001b[39m\u001b[38;5;124m#9f86c0\u001b[39m\u001b[38;5;124m'\u001b[39m)\n\u001b[0;32m     14\u001b[0m ax\u001b[38;5;241m.\u001b[39mset_xlabel(\u001b[38;5;124m'\u001b[39m\u001b[38;5;124mRango de edades (en años)\u001b[39m\u001b[38;5;124m'\u001b[39m, color\u001b[38;5;241m=\u001b[39m\u001b[38;5;124m'\u001b[39m\u001b[38;5;124m#9f86c0\u001b[39m\u001b[38;5;124m'\u001b[39m)\n\u001b[1;32m---> 15\u001b[0m \u001b[43max\u001b[49m\u001b[38;5;241;43m.\u001b[39;49m\u001b[43mset_xlabel\u001b[49m\u001b[43m(\u001b[49m\u001b[43mpad\u001b[49m\u001b[38;5;241;43m=\u001b[39;49m\u001b[38;5;241;43m50\u001b[39;49m\u001b[43m)\u001b[49m \n\u001b[0;32m     17\u001b[0m sns\u001b[38;5;241m.\u001b[39mdespine(trim\u001b[38;5;241m=\u001b[39m\u001b[38;5;28;01mTrue\u001b[39;00m)\n\u001b[0;32m     18\u001b[0m plt\u001b[38;5;241m.\u001b[39mshow()\n",
      "\u001b[1;31mTypeError\u001b[0m: _AxesBase.set_xlabel() missing 1 required positional argument: 'xlabel'"
     ]
    },
    {
     "data": {
      "image/png": "[encoded data removed]",
      "text/plain": [
       "<Figure size 640x480 with 1 Axes>"
      ]
     },
     "metadata": {},
     "output_type": "display_data"
    }
   ],
   "source": [
    "sns.lineplot(data=df_edades,\n",
    "            x='Edad', y='Conteo',\n",
    "            linewidth=2,\n",
    "            color='#e0b1cb')\n",
    "\n",
    "ax = plt.gca()\n",
    "ax.spines['bottom'].set_color('#9f86c0')\n",
    "ax.spines['bottom'].set_linewidth(1.5)\n",
    "ax.spines['left'].set_color('#9f86c0')\n",
    "ax.spines['left'].set_linewidth(1.5)\n",
    "ax.tick_params(axis='x', which='both', color='#9f86c0', width=1.5, length=5, labelcolor='#9f86c0')\n",
    "ax.tick_params(axis='y', which='both', color='#9f86c0', width=1.5, length=5, labelcolor='#9f86c0')\n",
    "ax.set_ylabel('Cantidad de llamados', color='#9f86c0')\n",
    "ax.set_xlabel('Rango de edades (en años)', color='#9f86c0')\n",
    "\n",
    "sns.despine(trim=True)\n",
    "plt.show()"
   ]
  }
 ],
 "metadata": {
  "kernelspec": {
   "display_name": "Python 3 (ipykernel)",
   "language": "python",
   "name": "python3"
  },
  "language_info": {
   "codemirror_mode": {
    "name": "ipython",
    "version": 3
   },
   "file_extension": ".py",
   "mimetype": "text/x-python",
   "name": "python",
   "nbconvert_exporter": "python",
   "pygments_lexer": "ipython3",
   "version": "3.11.4"
  }
 },
 "nbformat": 4,
 "nbformat_minor": 4
}
